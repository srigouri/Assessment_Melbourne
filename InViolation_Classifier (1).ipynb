{
 "cells": [
  {
   "cell_type": "code",
   "execution_count": 675,
   "id": "9cb01e4b",
   "metadata": {},
   "outputs": [],
   "source": [
    "## Importing libraries"
   ]
  },
  {
   "cell_type": "code",
   "execution_count": 676,
   "id": "f3256eb4",
   "metadata": {},
   "outputs": [],
   "source": [
    "import sklearn.utils._cython_blas\n"
   ]
  },
  {
   "cell_type": "code",
   "execution_count": 677,
   "id": "9d518e11",
   "metadata": {},
   "outputs": [],
   "source": [
    "import pandas as pd\n",
    "import numpy as np\n",
    "import sklearn\n",
    "from sklearn import preprocessing\n",
    "import seaborn as sns\n",
    "%matplotlib inline\n",
    "import matplotlib.pyplot as plt\n",
    "from sklearn.svm import LinearSVC\n",
    "from collections import Counter\n",
    "from sklearn.datasets import make_classification"
   ]
  },
  {
   "cell_type": "code",
   "execution_count": 678,
   "id": "f07fa130",
   "metadata": {},
   "outputs": [],
   "source": [
    "## Loading csv file containing historical sensor data into sensor_data dataframe"
   ]
  },
  {
   "cell_type": "code",
   "execution_count": 679,
   "id": "bee06d9d",
   "metadata": {},
   "outputs": [],
   "source": [
    "sensor_data=pd.read_csv('C:/Users/spatnam/Downloads/On-street_Car_Parking_Sensor_Data_-_2017.csv',nrows=50000)"
   ]
  },
  {
   "cell_type": "code",
   "execution_count": 680,
   "id": "5a65b37b",
   "metadata": {},
   "outputs": [],
   "source": [
    "Restriction_data=pd.read_csv('C:/Users/spatnam/Downloads/On-street_Car_Park_Bay_Restrictions.csv')"
   ]
  },
  {
   "cell_type": "code",
   "execution_count": 681,
   "id": "e95a6c5c",
   "metadata": {},
   "outputs": [],
   "source": [
    "# Using shape function to know the shape of the dataset "
   ]
  },
  {
   "cell_type": "code",
   "execution_count": 682,
   "id": "0603559c",
   "metadata": {},
   "outputs": [
    {
     "data": {
      "text/plain": [
       "(50000, 14)"
      ]
     },
     "execution_count": 682,
     "metadata": {},
     "output_type": "execute_result"
    }
   ],
   "source": [
    "sensor_data.shape"
   ]
  },
  {
   "cell_type": "code",
   "execution_count": 683,
   "id": "aa104984",
   "metadata": {},
   "outputs": [
    {
     "data": {
      "text/plain": [
       "(4263, 62)"
      ]
     },
     "execution_count": 683,
     "metadata": {},
     "output_type": "execute_result"
    }
   ],
   "source": [
    "Restriction_data.shape"
   ]
  },
  {
   "cell_type": "code",
   "execution_count": 684,
   "id": "0674d418",
   "metadata": {},
   "outputs": [
    {
     "data": {
      "text/html": [
       "<div>\n",
       "<style scoped>\n",
       "    .dataframe tbody tr th:only-of-type {\n",
       "        vertical-align: middle;\n",
       "    }\n",
       "\n",
       "    .dataframe tbody tr th {\n",
       "        vertical-align: top;\n",
       "    }\n",
       "\n",
       "    .dataframe thead th {\n",
       "        text-align: right;\n",
       "    }\n",
       "</style>\n",
       "<table border=\"1\" class=\"dataframe\">\n",
       "  <thead>\n",
       "    <tr style=\"text-align: right;\">\n",
       "      <th></th>\n",
       "      <th>DeviceId</th>\n",
       "      <th>ArrivalTime</th>\n",
       "      <th>DepartureTime</th>\n",
       "      <th>DurationSeconds</th>\n",
       "      <th>StreetMarker</th>\n",
       "      <th>Sign</th>\n",
       "      <th>Area</th>\n",
       "      <th>StreetId</th>\n",
       "      <th>StreetName</th>\n",
       "      <th>BetweenStreet1</th>\n",
       "      <th>BetweenStreet2</th>\n",
       "      <th>Side Of Street</th>\n",
       "      <th>In Violation</th>\n",
       "      <th>Vehicle Present</th>\n",
       "    </tr>\n",
       "  </thead>\n",
       "  <tbody>\n",
       "    <tr>\n",
       "      <th>0</th>\n",
       "      <td>18773</td>\n",
       "      <td>04/11/2017 07:24:35 AM</td>\n",
       "      <td>04/11/2017 07:30:00 AM</td>\n",
       "      <td>325</td>\n",
       "      <td>2477S</td>\n",
       "      <td>NaN</td>\n",
       "      <td>Spencer</td>\n",
       "      <td>123</td>\n",
       "      <td>BOURKE STREET</td>\n",
       "      <td>SPENCER STREET</td>\n",
       "      <td>KING STREET</td>\n",
       "      <td>4</td>\n",
       "      <td>False</td>\n",
       "      <td>True</td>\n",
       "    </tr>\n",
       "    <tr>\n",
       "      <th>1</th>\n",
       "      <td>19262</td>\n",
       "      <td>07/03/2017 06:41:20 AM</td>\n",
       "      <td>07/03/2017 07:30:00 AM</td>\n",
       "      <td>2920</td>\n",
       "      <td>3598N</td>\n",
       "      <td>NaN</td>\n",
       "      <td>Magistrates</td>\n",
       "      <td>926</td>\n",
       "      <td>LITTLE LONSDALE STREET</td>\n",
       "      <td>SPENCER STREET</td>\n",
       "      <td>KING STREET</td>\n",
       "      <td>3</td>\n",
       "      <td>False</td>\n",
       "      <td>False</td>\n",
       "    </tr>\n",
       "    <tr>\n",
       "      <th>2</th>\n",
       "      <td>21322</td>\n",
       "      <td>04/07/2017 10:48:38 AM</td>\n",
       "      <td>04/07/2017 11:41:34 AM</td>\n",
       "      <td>3176</td>\n",
       "      <td>12548N</td>\n",
       "      <td>2P TKT A M-F 7:30-18:30</td>\n",
       "      <td>Jolimont</td>\n",
       "      <td>1413</td>\n",
       "      <td>WELLINGTON PARADE</td>\n",
       "      <td>JOLIMONT ROAD</td>\n",
       "      <td>CLARENDON STREET</td>\n",
       "      <td>3</td>\n",
       "      <td>False</td>\n",
       "      <td>True</td>\n",
       "    </tr>\n",
       "    <tr>\n",
       "      <th>3</th>\n",
       "      <td>17670</td>\n",
       "      <td>02/09/2017 04:57:38 PM</td>\n",
       "      <td>02/09/2017 05:11:04 PM</td>\n",
       "      <td>806</td>\n",
       "      <td>13836N</td>\n",
       "      <td>2P TKT A M-SAT 7:30-18:30</td>\n",
       "      <td>Docklands</td>\n",
       "      <td>915</td>\n",
       "      <td>LITTLE DOCKLANDS DRIVE</td>\n",
       "      <td>WATERFRONT WAY</td>\n",
       "      <td>FOOTSCRAY ROAD</td>\n",
       "      <td>3</td>\n",
       "      <td>False</td>\n",
       "      <td>True</td>\n",
       "    </tr>\n",
       "    <tr>\n",
       "      <th>4</th>\n",
       "      <td>19241</td>\n",
       "      <td>05/27/2017 10:43:52 PM</td>\n",
       "      <td>05/27/2017 10:47:28 PM</td>\n",
       "      <td>216</td>\n",
       "      <td>3571S</td>\n",
       "      <td>NaN</td>\n",
       "      <td>Magistrates</td>\n",
       "      <td>926</td>\n",
       "      <td>LITTLE LONSDALE STREET</td>\n",
       "      <td>SPENCER STREET</td>\n",
       "      <td>KING STREET</td>\n",
       "      <td>4</td>\n",
       "      <td>False</td>\n",
       "      <td>False</td>\n",
       "    </tr>\n",
       "  </tbody>\n",
       "</table>\n",
       "</div>"
      ],
      "text/plain": [
       "   DeviceId             ArrivalTime           DepartureTime  DurationSeconds  \\\n",
       "0     18773  04/11/2017 07:24:35 AM  04/11/2017 07:30:00 AM              325   \n",
       "1     19262  07/03/2017 06:41:20 AM  07/03/2017 07:30:00 AM             2920   \n",
       "2     21322  04/07/2017 10:48:38 AM  04/07/2017 11:41:34 AM             3176   \n",
       "3     17670  02/09/2017 04:57:38 PM  02/09/2017 05:11:04 PM              806   \n",
       "4     19241  05/27/2017 10:43:52 PM  05/27/2017 10:47:28 PM              216   \n",
       "\n",
       "  StreetMarker                       Sign         Area  StreetId  \\\n",
       "0        2477S                        NaN      Spencer       123   \n",
       "1        3598N                        NaN  Magistrates       926   \n",
       "2       12548N    2P TKT A M-F 7:30-18:30     Jolimont      1413   \n",
       "3       13836N  2P TKT A M-SAT 7:30-18:30    Docklands       915   \n",
       "4        3571S                        NaN  Magistrates       926   \n",
       "\n",
       "               StreetName  BetweenStreet1    BetweenStreet2  Side Of Street  \\\n",
       "0           BOURKE STREET  SPENCER STREET       KING STREET               4   \n",
       "1  LITTLE LONSDALE STREET  SPENCER STREET       KING STREET               3   \n",
       "2       WELLINGTON PARADE   JOLIMONT ROAD  CLARENDON STREET               3   \n",
       "3  LITTLE DOCKLANDS DRIVE  WATERFRONT WAY    FOOTSCRAY ROAD               3   \n",
       "4  LITTLE LONSDALE STREET  SPENCER STREET       KING STREET               4   \n",
       "\n",
       "   In Violation  Vehicle Present  \n",
       "0         False             True  \n",
       "1         False            False  \n",
       "2         False             True  \n",
       "3         False             True  \n",
       "4         False            False  "
      ]
     },
     "execution_count": 684,
     "metadata": {},
     "output_type": "execute_result"
    }
   ],
   "source": [
    "sensor_data.head()"
   ]
  },
  {
   "cell_type": "code",
   "execution_count": 685,
   "id": "1e4ea5e9",
   "metadata": {},
   "outputs": [
    {
     "data": {
      "text/html": [
       "<div>\n",
       "<style scoped>\n",
       "    .dataframe tbody tr th:only-of-type {\n",
       "        vertical-align: middle;\n",
       "    }\n",
       "\n",
       "    .dataframe tbody tr th {\n",
       "        vertical-align: top;\n",
       "    }\n",
       "\n",
       "    .dataframe thead th {\n",
       "        text-align: right;\n",
       "    }\n",
       "</style>\n",
       "<table border=\"1\" class=\"dataframe\">\n",
       "  <thead>\n",
       "    <tr style=\"text-align: right;\">\n",
       "      <th></th>\n",
       "      <th>BayID</th>\n",
       "      <th>DeviceID</th>\n",
       "      <th>Description1</th>\n",
       "      <th>Description2</th>\n",
       "      <th>Description3</th>\n",
       "      <th>Description4</th>\n",
       "      <th>Description5</th>\n",
       "      <th>Description6</th>\n",
       "      <th>DisabilityExt1</th>\n",
       "      <th>DisabilityExt2</th>\n",
       "      <th>...</th>\n",
       "      <th>ToDay3</th>\n",
       "      <th>ToDay4</th>\n",
       "      <th>ToDay5</th>\n",
       "      <th>ToDay6</th>\n",
       "      <th>TypeDesc1</th>\n",
       "      <th>TypeDesc2</th>\n",
       "      <th>TypeDesc3</th>\n",
       "      <th>TypeDesc4</th>\n",
       "      <th>TypeDesc5</th>\n",
       "      <th>TypeDesc6</th>\n",
       "    </tr>\n",
       "  </thead>\n",
       "  <tbody>\n",
       "    <tr>\n",
       "      <th>0</th>\n",
       "      <td>1500</td>\n",
       "      <td>30574</td>\n",
       "      <td>LZ 30MINS 722 M-F 7.30 to 6.30</td>\n",
       "      <td>2P MTR M-F 18:30-20:30</td>\n",
       "      <td>2P MTR SAT 7:30-20:30</td>\n",
       "      <td>NaN</td>\n",
       "      <td>NaN</td>\n",
       "      <td>NaN</td>\n",
       "      <td>0</td>\n",
       "      <td>240.0</td>\n",
       "      <td>...</td>\n",
       "      <td>6.0</td>\n",
       "      <td>NaN</td>\n",
       "      <td>NaN</td>\n",
       "      <td>NaN</td>\n",
       "      <td>Loading Zone 30M 722</td>\n",
       "      <td>2P Meter</td>\n",
       "      <td>2P Meter</td>\n",
       "      <td>NaN</td>\n",
       "      <td>NaN</td>\n",
       "      <td>NaN</td>\n",
       "    </tr>\n",
       "    <tr>\n",
       "      <th>1</th>\n",
       "      <td>8634</td>\n",
       "      <td>28003</td>\n",
       "      <td>2P RPA 1B 7:30-23:00 M-SUN</td>\n",
       "      <td>NaN</td>\n",
       "      <td>NaN</td>\n",
       "      <td>NaN</td>\n",
       "      <td>NaN</td>\n",
       "      <td>NaN</td>\n",
       "      <td>240</td>\n",
       "      <td>NaN</td>\n",
       "      <td>...</td>\n",
       "      <td>NaN</td>\n",
       "      <td>NaN</td>\n",
       "      <td>NaN</td>\n",
       "      <td>NaN</td>\n",
       "      <td>2P</td>\n",
       "      <td>NaN</td>\n",
       "      <td>NaN</td>\n",
       "      <td>NaN</td>\n",
       "      <td>NaN</td>\n",
       "      <td>NaN</td>\n",
       "    </tr>\n",
       "    <tr>\n",
       "      <th>2</th>\n",
       "      <td>8587</td>\n",
       "      <td>27956</td>\n",
       "      <td>2P RPA 1B 7:30-23:00 M-SUN</td>\n",
       "      <td>NaN</td>\n",
       "      <td>NaN</td>\n",
       "      <td>NaN</td>\n",
       "      <td>NaN</td>\n",
       "      <td>NaN</td>\n",
       "      <td>240</td>\n",
       "      <td>NaN</td>\n",
       "      <td>...</td>\n",
       "      <td>NaN</td>\n",
       "      <td>NaN</td>\n",
       "      <td>NaN</td>\n",
       "      <td>NaN</td>\n",
       "      <td>2P</td>\n",
       "      <td>NaN</td>\n",
       "      <td>NaN</td>\n",
       "      <td>NaN</td>\n",
       "      <td>NaN</td>\n",
       "      <td>NaN</td>\n",
       "    </tr>\n",
       "    <tr>\n",
       "      <th>3</th>\n",
       "      <td>1499</td>\n",
       "      <td>30573</td>\n",
       "      <td>LZ 30MINS 722 M-F 7.30 to 6.30</td>\n",
       "      <td>2P MTR M-F 18:30-20:30</td>\n",
       "      <td>2P MTR SAT 7:30-20:30</td>\n",
       "      <td>NaN</td>\n",
       "      <td>NaN</td>\n",
       "      <td>NaN</td>\n",
       "      <td>0</td>\n",
       "      <td>240.0</td>\n",
       "      <td>...</td>\n",
       "      <td>6.0</td>\n",
       "      <td>NaN</td>\n",
       "      <td>NaN</td>\n",
       "      <td>NaN</td>\n",
       "      <td>Loading Zone 30M 722</td>\n",
       "      <td>2P Meter</td>\n",
       "      <td>2P Meter</td>\n",
       "      <td>NaN</td>\n",
       "      <td>NaN</td>\n",
       "      <td>NaN</td>\n",
       "    </tr>\n",
       "    <tr>\n",
       "      <th>4</th>\n",
       "      <td>8498</td>\n",
       "      <td>27876</td>\n",
       "      <td>2P RPA 1B 7:30-23:00 M-SUN</td>\n",
       "      <td>NaN</td>\n",
       "      <td>NaN</td>\n",
       "      <td>NaN</td>\n",
       "      <td>NaN</td>\n",
       "      <td>NaN</td>\n",
       "      <td>240</td>\n",
       "      <td>NaN</td>\n",
       "      <td>...</td>\n",
       "      <td>NaN</td>\n",
       "      <td>NaN</td>\n",
       "      <td>NaN</td>\n",
       "      <td>NaN</td>\n",
       "      <td>2P</td>\n",
       "      <td>NaN</td>\n",
       "      <td>NaN</td>\n",
       "      <td>NaN</td>\n",
       "      <td>NaN</td>\n",
       "      <td>NaN</td>\n",
       "    </tr>\n",
       "  </tbody>\n",
       "</table>\n",
       "<p>5 rows × 62 columns</p>\n",
       "</div>"
      ],
      "text/plain": [
       "   BayID  DeviceID                    Description1            Description2  \\\n",
       "0   1500     30574  LZ 30MINS 722 M-F 7.30 to 6.30  2P MTR M-F 18:30-20:30   \n",
       "1   8634     28003      2P RPA 1B 7:30-23:00 M-SUN                     NaN   \n",
       "2   8587     27956      2P RPA 1B 7:30-23:00 M-SUN                     NaN   \n",
       "3   1499     30573  LZ 30MINS 722 M-F 7.30 to 6.30  2P MTR M-F 18:30-20:30   \n",
       "4   8498     27876      2P RPA 1B 7:30-23:00 M-SUN                     NaN   \n",
       "\n",
       "            Description3 Description4 Description5 Description6  \\\n",
       "0  2P MTR SAT 7:30-20:30          NaN          NaN          NaN   \n",
       "1                    NaN          NaN          NaN          NaN   \n",
       "2                    NaN          NaN          NaN          NaN   \n",
       "3  2P MTR SAT 7:30-20:30          NaN          NaN          NaN   \n",
       "4                    NaN          NaN          NaN          NaN   \n",
       "\n",
       "   DisabilityExt1  DisabilityExt2  ...  ToDay3  ToDay4  ToDay5  ToDay6  \\\n",
       "0               0           240.0  ...     6.0     NaN     NaN     NaN   \n",
       "1             240             NaN  ...     NaN     NaN     NaN     NaN   \n",
       "2             240             NaN  ...     NaN     NaN     NaN     NaN   \n",
       "3               0           240.0  ...     6.0     NaN     NaN     NaN   \n",
       "4             240             NaN  ...     NaN     NaN     NaN     NaN   \n",
       "\n",
       "              TypeDesc1  TypeDesc2  TypeDesc3  TypeDesc4  TypeDesc5  TypeDesc6  \n",
       "0  Loading Zone 30M 722   2P Meter   2P Meter        NaN        NaN        NaN  \n",
       "1                    2P        NaN        NaN        NaN        NaN        NaN  \n",
       "2                    2P        NaN        NaN        NaN        NaN        NaN  \n",
       "3  Loading Zone 30M 722   2P Meter   2P Meter        NaN        NaN        NaN  \n",
       "4                    2P        NaN        NaN        NaN        NaN        NaN  \n",
       "\n",
       "[5 rows x 62 columns]"
      ]
     },
     "execution_count": 685,
     "metadata": {},
     "output_type": "execute_result"
    }
   ],
   "source": [
    "Restriction_data.head()"
   ]
  },
  {
   "cell_type": "code",
   "execution_count": 686,
   "id": "c6ef9bda",
   "metadata": {},
   "outputs": [],
   "source": [
    "sensor_data['Arr_Date'] = pd.to_datetime(sensor_data['ArrivalTime']).dt.date\n",
    "sensor_data['Arr_Time'] = pd.to_datetime(sensor_data['ArrivalTime']).dt.time"
   ]
  },
  {
   "cell_type": "code",
   "execution_count": 687,
   "id": "8434d31e",
   "metadata": {},
   "outputs": [],
   "source": [
    "sensor_data['Dep_Date'] = pd.to_datetime(sensor_data['DepartureTime']).dt.date\n",
    "sensor_data['Dep_Time'] = pd.to_datetime(sensor_data['DepartureTime']).dt.time"
   ]
  },
  {
   "cell_type": "code",
   "execution_count": 688,
   "id": "7b004326",
   "metadata": {},
   "outputs": [],
   "source": [
    "sensor_data.drop('ArrivalTime',axis=1,inplace=True)\n",
    "sensor_data.drop('DepartureTime',axis=1,inplace=True)"
   ]
  },
  {
   "cell_type": "code",
   "execution_count": 689,
   "id": "58e6455e",
   "metadata": {},
   "outputs": [],
   "source": [
    "sensor_data['Vehicle Present'] = sensor_data['Vehicle Present'].map({False:0,True:1})\n",
    "sensor_data['In Violation'] = sensor_data['In Violation'].map({False:0,True:1})"
   ]
  },
  {
   "cell_type": "code",
   "execution_count": 690,
   "id": "a61177fd",
   "metadata": {},
   "outputs": [],
   "source": [
    "sensor_data[['StreetMarker','Area','StreetName','BetweenStreet1','BetweenStreet2']]= sensor_data[['StreetMarker','Area','StreetName','BetweenStreet1','BetweenStreet2']].apply(lambda x: pd.factorize(x)[0])"
   ]
  },
  {
   "cell_type": "code",
   "execution_count": 691,
   "id": "c58376c0",
   "metadata": {},
   "outputs": [
    {
     "data": {
      "text/html": [
       "<div>\n",
       "<style scoped>\n",
       "    .dataframe tbody tr th:only-of-type {\n",
       "        vertical-align: middle;\n",
       "    }\n",
       "\n",
       "    .dataframe tbody tr th {\n",
       "        vertical-align: top;\n",
       "    }\n",
       "\n",
       "    .dataframe thead th {\n",
       "        text-align: right;\n",
       "    }\n",
       "</style>\n",
       "<table border=\"1\" class=\"dataframe\">\n",
       "  <thead>\n",
       "    <tr style=\"text-align: right;\">\n",
       "      <th></th>\n",
       "      <th>DeviceId</th>\n",
       "      <th>DurationSeconds</th>\n",
       "      <th>StreetMarker</th>\n",
       "      <th>Sign</th>\n",
       "      <th>Area</th>\n",
       "      <th>StreetId</th>\n",
       "      <th>StreetName</th>\n",
       "      <th>BetweenStreet1</th>\n",
       "      <th>BetweenStreet2</th>\n",
       "      <th>Side Of Street</th>\n",
       "      <th>In Violation</th>\n",
       "      <th>Vehicle Present</th>\n",
       "      <th>Arr_Date</th>\n",
       "      <th>Arr_Time</th>\n",
       "      <th>Dep_Date</th>\n",
       "      <th>Dep_Time</th>\n",
       "    </tr>\n",
       "  </thead>\n",
       "  <tbody>\n",
       "    <tr>\n",
       "      <th>0</th>\n",
       "      <td>18773</td>\n",
       "      <td>325</td>\n",
       "      <td>0</td>\n",
       "      <td>NaN</td>\n",
       "      <td>0</td>\n",
       "      <td>123</td>\n",
       "      <td>0</td>\n",
       "      <td>0</td>\n",
       "      <td>0</td>\n",
       "      <td>4</td>\n",
       "      <td>0</td>\n",
       "      <td>1</td>\n",
       "      <td>2017-04-11</td>\n",
       "      <td>07:24:35</td>\n",
       "      <td>2017-04-11</td>\n",
       "      <td>07:30:00</td>\n",
       "    </tr>\n",
       "    <tr>\n",
       "      <th>1</th>\n",
       "      <td>19262</td>\n",
       "      <td>2920</td>\n",
       "      <td>1</td>\n",
       "      <td>NaN</td>\n",
       "      <td>1</td>\n",
       "      <td>926</td>\n",
       "      <td>1</td>\n",
       "      <td>0</td>\n",
       "      <td>0</td>\n",
       "      <td>3</td>\n",
       "      <td>0</td>\n",
       "      <td>0</td>\n",
       "      <td>2017-07-03</td>\n",
       "      <td>06:41:20</td>\n",
       "      <td>2017-07-03</td>\n",
       "      <td>07:30:00</td>\n",
       "    </tr>\n",
       "    <tr>\n",
       "      <th>2</th>\n",
       "      <td>21322</td>\n",
       "      <td>3176</td>\n",
       "      <td>2</td>\n",
       "      <td>2P TKT A M-F 7:30-18:30</td>\n",
       "      <td>2</td>\n",
       "      <td>1413</td>\n",
       "      <td>2</td>\n",
       "      <td>1</td>\n",
       "      <td>1</td>\n",
       "      <td>3</td>\n",
       "      <td>0</td>\n",
       "      <td>1</td>\n",
       "      <td>2017-04-07</td>\n",
       "      <td>10:48:38</td>\n",
       "      <td>2017-04-07</td>\n",
       "      <td>11:41:34</td>\n",
       "    </tr>\n",
       "    <tr>\n",
       "      <th>3</th>\n",
       "      <td>17670</td>\n",
       "      <td>806</td>\n",
       "      <td>3</td>\n",
       "      <td>2P TKT A M-SAT 7:30-18:30</td>\n",
       "      <td>3</td>\n",
       "      <td>915</td>\n",
       "      <td>3</td>\n",
       "      <td>2</td>\n",
       "      <td>2</td>\n",
       "      <td>3</td>\n",
       "      <td>0</td>\n",
       "      <td>1</td>\n",
       "      <td>2017-02-09</td>\n",
       "      <td>16:57:38</td>\n",
       "      <td>2017-02-09</td>\n",
       "      <td>17:11:04</td>\n",
       "    </tr>\n",
       "    <tr>\n",
       "      <th>4</th>\n",
       "      <td>19241</td>\n",
       "      <td>216</td>\n",
       "      <td>4</td>\n",
       "      <td>NaN</td>\n",
       "      <td>1</td>\n",
       "      <td>926</td>\n",
       "      <td>1</td>\n",
       "      <td>0</td>\n",
       "      <td>0</td>\n",
       "      <td>4</td>\n",
       "      <td>0</td>\n",
       "      <td>0</td>\n",
       "      <td>2017-05-27</td>\n",
       "      <td>22:43:52</td>\n",
       "      <td>2017-05-27</td>\n",
       "      <td>22:47:28</td>\n",
       "    </tr>\n",
       "  </tbody>\n",
       "</table>\n",
       "</div>"
      ],
      "text/plain": [
       "   DeviceId  DurationSeconds  StreetMarker                       Sign  Area  \\\n",
       "0     18773              325             0                        NaN     0   \n",
       "1     19262             2920             1                        NaN     1   \n",
       "2     21322             3176             2    2P TKT A M-F 7:30-18:30     2   \n",
       "3     17670              806             3  2P TKT A M-SAT 7:30-18:30     3   \n",
       "4     19241              216             4                        NaN     1   \n",
       "\n",
       "   StreetId  StreetName  BetweenStreet1  BetweenStreet2  Side Of Street  \\\n",
       "0       123           0               0               0               4   \n",
       "1       926           1               0               0               3   \n",
       "2      1413           2               1               1               3   \n",
       "3       915           3               2               2               3   \n",
       "4       926           1               0               0               4   \n",
       "\n",
       "   In Violation  Vehicle Present    Arr_Date  Arr_Time    Dep_Date  Dep_Time  \n",
       "0             0                1  2017-04-11  07:24:35  2017-04-11  07:30:00  \n",
       "1             0                0  2017-07-03  06:41:20  2017-07-03  07:30:00  \n",
       "2             0                1  2017-04-07  10:48:38  2017-04-07  11:41:34  \n",
       "3             0                1  2017-02-09  16:57:38  2017-02-09  17:11:04  \n",
       "4             0                0  2017-05-27  22:43:52  2017-05-27  22:47:28  "
      ]
     },
     "execution_count": 691,
     "metadata": {},
     "output_type": "execute_result"
    }
   ],
   "source": [
    "sensor_data.head()"
   ]
  },
  {
   "cell_type": "code",
   "execution_count": 692,
   "id": "29743df6",
   "metadata": {},
   "outputs": [],
   "source": [
    "# Using info function to see the datatypes and number of instances in the dataset"
   ]
  },
  {
   "cell_type": "code",
   "execution_count": 693,
   "id": "48e9d1db",
   "metadata": {},
   "outputs": [
    {
     "name": "stdout",
     "output_type": "stream",
     "text": [
      "<class 'pandas.core.frame.DataFrame'>\n",
      "RangeIndex: 50000 entries, 0 to 49999\n",
      "Data columns (total 16 columns):\n",
      " #   Column           Non-Null Count  Dtype \n",
      "---  ------           --------------  ----- \n",
      " 0   DeviceId         50000 non-null  int64 \n",
      " 1   DurationSeconds  50000 non-null  int64 \n",
      " 2   StreetMarker     50000 non-null  int64 \n",
      " 3   Sign             32703 non-null  object\n",
      " 4   Area             50000 non-null  int64 \n",
      " 5   StreetId         50000 non-null  int64 \n",
      " 6   StreetName       50000 non-null  int64 \n",
      " 7   BetweenStreet1   50000 non-null  int64 \n",
      " 8   BetweenStreet2   50000 non-null  int64 \n",
      " 9   Side Of Street   50000 non-null  int64 \n",
      " 10  In Violation     50000 non-null  int64 \n",
      " 11  Vehicle Present  50000 non-null  int64 \n",
      " 12  Arr_Date         50000 non-null  object\n",
      " 13  Arr_Time         50000 non-null  object\n",
      " 14  Dep_Date         50000 non-null  object\n",
      " 15  Dep_Time         50000 non-null  object\n",
      "dtypes: int64(11), object(5)\n",
      "memory usage: 6.1+ MB\n"
     ]
    }
   ],
   "source": [
    "sensor_data.info()"
   ]
  },
  {
   "cell_type": "code",
   "execution_count": 694,
   "id": "a3a4036a",
   "metadata": {},
   "outputs": [
    {
     "name": "stdout",
     "output_type": "stream",
     "text": [
      "<class 'pandas.core.frame.DataFrame'>\n",
      "RangeIndex: 4263 entries, 0 to 4262\n",
      "Data columns (total 62 columns):\n",
      " #   Column          Non-Null Count  Dtype  \n",
      "---  ------          --------------  -----  \n",
      " 0   BayID           4263 non-null   int64  \n",
      " 1   DeviceID        4263 non-null   int64  \n",
      " 2   Description1    4263 non-null   object \n",
      " 3   Description2    2862 non-null   object \n",
      " 4   Description3    584 non-null    object \n",
      " 5   Description4    217 non-null    object \n",
      " 6   Description5    82 non-null     object \n",
      " 7   Description6    27 non-null     object \n",
      " 8   DisabilityExt1  4263 non-null   int64  \n",
      " 9   DisabilityExt2  2862 non-null   float64\n",
      " 10  DisabilityExt3  584 non-null    float64\n",
      " 11  DisabilityExt4  217 non-null    float64\n",
      " 12  DisabilityExt5  82 non-null     float64\n",
      " 13  DisabilityExt6  27 non-null     float64\n",
      " 14  Duration1       4263 non-null   int64  \n",
      " 15  Duration2       2862 non-null   float64\n",
      " 16  Duration3       584 non-null    float64\n",
      " 17  Duration4       217 non-null    float64\n",
      " 18  Duration5       82 non-null     float64\n",
      " 19  Duration6       27 non-null     float64\n",
      " 20  EffectiveOnPH1  4263 non-null   int64  \n",
      " 21  EffectiveOnPH2  2862 non-null   float64\n",
      " 22  EffectiveOnPH3  584 non-null    float64\n",
      " 23  EffectiveOnPH4  217 non-null    float64\n",
      " 24  EffectiveOnPH5  82 non-null     float64\n",
      " 25  EffectiveOnPH6  27 non-null     float64\n",
      " 26  EndTime1        4263 non-null   object \n",
      " 27  EndTime2        2862 non-null   object \n",
      " 28  EndTime3        584 non-null    object \n",
      " 29  EndTime4        217 non-null    object \n",
      " 30  EndTime5        82 non-null     object \n",
      " 31  EndTime6        27 non-null     object \n",
      " 32  Exemption1      569 non-null    object \n",
      " 33  Exemption2      112 non-null    object \n",
      " 34  Exemption3      4 non-null      object \n",
      " 35  Exemption4      6 non-null      object \n",
      " 36  Exemption5      6 non-null      object \n",
      " 37  Exemption6      0 non-null      float64\n",
      " 38  FromDay1        4263 non-null   int64  \n",
      " 39  FromDay2        2862 non-null   float64\n",
      " 40  FromDay3        584 non-null    float64\n",
      " 41  FromDay4        217 non-null    float64\n",
      " 42  FromDay5        82 non-null     float64\n",
      " 43  FromDay6        27 non-null     float64\n",
      " 44  StartTime1      4263 non-null   object \n",
      " 45  StartTime2      2862 non-null   object \n",
      " 46  StartTime3      584 non-null    object \n",
      " 47  StartTime4      217 non-null    object \n",
      " 48  StartTime5      82 non-null     object \n",
      " 49  StartTime6      27 non-null     object \n",
      " 50  ToDay1          4263 non-null   int64  \n",
      " 51  ToDay2          2862 non-null   float64\n",
      " 52  ToDay3          584 non-null    float64\n",
      " 53  ToDay4          217 non-null    float64\n",
      " 54  ToDay5          82 non-null     float64\n",
      " 55  ToDay6          27 non-null     float64\n",
      " 56  TypeDesc1       4263 non-null   object \n",
      " 57  TypeDesc2       2862 non-null   object \n",
      " 58  TypeDesc3       584 non-null    object \n",
      " 59  TypeDesc4       217 non-null    object \n",
      " 60  TypeDesc5       82 non-null     object \n",
      " 61  TypeDesc6       27 non-null     object \n",
      "dtypes: float64(26), int64(7), object(29)\n",
      "memory usage: 2.0+ MB\n"
     ]
    }
   ],
   "source": [
    "Restriction_data.info()"
   ]
  },
  {
   "cell_type": "raw",
   "id": "ebebd082",
   "metadata": {},
   "source": [
    "## Insights\n",
    "-The dataset consist of 14 columns.\n",
    "-\n"
   ]
  },
  {
   "cell_type": "code",
   "execution_count": 695,
   "id": "1f43a07f",
   "metadata": {},
   "outputs": [],
   "source": [
    "## Data Cleaning"
   ]
  },
  {
   "cell_type": "code",
   "execution_count": 696,
   "id": "c10a44d5",
   "metadata": {},
   "outputs": [
    {
     "data": {
      "text/plain": [
       "DeviceId               0\n",
       "DurationSeconds        0\n",
       "StreetMarker           0\n",
       "Sign               17297\n",
       "Area                   0\n",
       "StreetId               0\n",
       "StreetName             0\n",
       "BetweenStreet1         0\n",
       "BetweenStreet2         0\n",
       "Side Of Street         0\n",
       "In Violation           0\n",
       "Vehicle Present        0\n",
       "Arr_Date               0\n",
       "Arr_Time               0\n",
       "Dep_Date               0\n",
       "Dep_Time               0\n",
       "dtype: int64"
      ]
     },
     "execution_count": 696,
     "metadata": {},
     "output_type": "execute_result"
    }
   ],
   "source": [
    "sensor_data.isna().sum()"
   ]
  },
  {
   "cell_type": "code",
   "execution_count": 697,
   "id": "62d6b8fe",
   "metadata": {},
   "outputs": [
    {
     "data": {
      "text/plain": [
       "BayID              0\n",
       "DeviceID           0\n",
       "Description1       0\n",
       "Description2    1401\n",
       "Description3    3679\n",
       "                ... \n",
       "TypeDesc2       1401\n",
       "TypeDesc3       3679\n",
       "TypeDesc4       4046\n",
       "TypeDesc5       4181\n",
       "TypeDesc6       4236\n",
       "Length: 62, dtype: int64"
      ]
     },
     "execution_count": 697,
     "metadata": {},
     "output_type": "execute_result"
    }
   ],
   "source": [
    "Restriction_data.isna().sum()"
   ]
  },
  {
   "cell_type": "code",
   "execution_count": 698,
   "id": "adcf5c69",
   "metadata": {},
   "outputs": [],
   "source": [
    "sensor_data=sensor_data.select_dtypes(exclude=['object'])\n",
    "Restriction_data=Restriction_data.select_dtypes(exclude=['object'])"
   ]
  },
  {
   "cell_type": "code",
   "execution_count": 699,
   "id": "2e34d5f1",
   "metadata": {},
   "outputs": [],
   "source": [
    "Bay_data = sensor_data.merge(Restriction_data,left_on='DeviceId', right_on='DeviceID',how='outer')"
   ]
  },
  {
   "cell_type": "code",
   "execution_count": 700,
   "id": "ac0dffd6",
   "metadata": {},
   "outputs": [
    {
     "data": {
      "text/plain": [
       "(54116, 44)"
      ]
     },
     "execution_count": 700,
     "metadata": {},
     "output_type": "execute_result"
    }
   ],
   "source": [
    "Bay_data.shape"
   ]
  },
  {
   "cell_type": "code",
   "execution_count": 701,
   "id": "6e79e49a",
   "metadata": {},
   "outputs": [
    {
     "data": {
      "text/html": [
       "<div>\n",
       "<style scoped>\n",
       "    .dataframe tbody tr th:only-of-type {\n",
       "        vertical-align: middle;\n",
       "    }\n",
       "\n",
       "    .dataframe tbody tr th {\n",
       "        vertical-align: top;\n",
       "    }\n",
       "\n",
       "    .dataframe thead th {\n",
       "        text-align: right;\n",
       "    }\n",
       "</style>\n",
       "<table border=\"1\" class=\"dataframe\">\n",
       "  <thead>\n",
       "    <tr style=\"text-align: right;\">\n",
       "      <th></th>\n",
       "      <th>DeviceId</th>\n",
       "      <th>DurationSeconds</th>\n",
       "      <th>StreetMarker</th>\n",
       "      <th>Area</th>\n",
       "      <th>StreetId</th>\n",
       "      <th>StreetName</th>\n",
       "      <th>BetweenStreet1</th>\n",
       "      <th>BetweenStreet2</th>\n",
       "      <th>Side Of Street</th>\n",
       "      <th>In Violation</th>\n",
       "      <th>...</th>\n",
       "      <th>FromDay3</th>\n",
       "      <th>FromDay4</th>\n",
       "      <th>FromDay5</th>\n",
       "      <th>FromDay6</th>\n",
       "      <th>ToDay1</th>\n",
       "      <th>ToDay2</th>\n",
       "      <th>ToDay3</th>\n",
       "      <th>ToDay4</th>\n",
       "      <th>ToDay5</th>\n",
       "      <th>ToDay6</th>\n",
       "    </tr>\n",
       "  </thead>\n",
       "  <tbody>\n",
       "    <tr>\n",
       "      <th>0</th>\n",
       "      <td>18773.0</td>\n",
       "      <td>325.0</td>\n",
       "      <td>0.0</td>\n",
       "      <td>0.0</td>\n",
       "      <td>123.0</td>\n",
       "      <td>0.0</td>\n",
       "      <td>0.0</td>\n",
       "      <td>0.0</td>\n",
       "      <td>4.0</td>\n",
       "      <td>0.0</td>\n",
       "      <td>...</td>\n",
       "      <td>NaN</td>\n",
       "      <td>NaN</td>\n",
       "      <td>NaN</td>\n",
       "      <td>NaN</td>\n",
       "      <td>NaN</td>\n",
       "      <td>NaN</td>\n",
       "      <td>NaN</td>\n",
       "      <td>NaN</td>\n",
       "      <td>NaN</td>\n",
       "      <td>NaN</td>\n",
       "    </tr>\n",
       "    <tr>\n",
       "      <th>1</th>\n",
       "      <td>18773.0</td>\n",
       "      <td>60.0</td>\n",
       "      <td>0.0</td>\n",
       "      <td>0.0</td>\n",
       "      <td>123.0</td>\n",
       "      <td>0.0</td>\n",
       "      <td>0.0</td>\n",
       "      <td>0.0</td>\n",
       "      <td>4.0</td>\n",
       "      <td>0.0</td>\n",
       "      <td>...</td>\n",
       "      <td>NaN</td>\n",
       "      <td>NaN</td>\n",
       "      <td>NaN</td>\n",
       "      <td>NaN</td>\n",
       "      <td>NaN</td>\n",
       "      <td>NaN</td>\n",
       "      <td>NaN</td>\n",
       "      <td>NaN</td>\n",
       "      <td>NaN</td>\n",
       "      <td>NaN</td>\n",
       "    </tr>\n",
       "    <tr>\n",
       "      <th>2</th>\n",
       "      <td>18773.0</td>\n",
       "      <td>27000.0</td>\n",
       "      <td>0.0</td>\n",
       "      <td>0.0</td>\n",
       "      <td>123.0</td>\n",
       "      <td>0.0</td>\n",
       "      <td>0.0</td>\n",
       "      <td>0.0</td>\n",
       "      <td>4.0</td>\n",
       "      <td>0.0</td>\n",
       "      <td>...</td>\n",
       "      <td>NaN</td>\n",
       "      <td>NaN</td>\n",
       "      <td>NaN</td>\n",
       "      <td>NaN</td>\n",
       "      <td>NaN</td>\n",
       "      <td>NaN</td>\n",
       "      <td>NaN</td>\n",
       "      <td>NaN</td>\n",
       "      <td>NaN</td>\n",
       "      <td>NaN</td>\n",
       "    </tr>\n",
       "    <tr>\n",
       "      <th>3</th>\n",
       "      <td>18773.0</td>\n",
       "      <td>258.0</td>\n",
       "      <td>0.0</td>\n",
       "      <td>0.0</td>\n",
       "      <td>123.0</td>\n",
       "      <td>0.0</td>\n",
       "      <td>0.0</td>\n",
       "      <td>0.0</td>\n",
       "      <td>4.0</td>\n",
       "      <td>0.0</td>\n",
       "      <td>...</td>\n",
       "      <td>NaN</td>\n",
       "      <td>NaN</td>\n",
       "      <td>NaN</td>\n",
       "      <td>NaN</td>\n",
       "      <td>NaN</td>\n",
       "      <td>NaN</td>\n",
       "      <td>NaN</td>\n",
       "      <td>NaN</td>\n",
       "      <td>NaN</td>\n",
       "      <td>NaN</td>\n",
       "    </tr>\n",
       "    <tr>\n",
       "      <th>4</th>\n",
       "      <td>18773.0</td>\n",
       "      <td>702.0</td>\n",
       "      <td>0.0</td>\n",
       "      <td>0.0</td>\n",
       "      <td>123.0</td>\n",
       "      <td>0.0</td>\n",
       "      <td>0.0</td>\n",
       "      <td>0.0</td>\n",
       "      <td>4.0</td>\n",
       "      <td>0.0</td>\n",
       "      <td>...</td>\n",
       "      <td>NaN</td>\n",
       "      <td>NaN</td>\n",
       "      <td>NaN</td>\n",
       "      <td>NaN</td>\n",
       "      <td>NaN</td>\n",
       "      <td>NaN</td>\n",
       "      <td>NaN</td>\n",
       "      <td>NaN</td>\n",
       "      <td>NaN</td>\n",
       "      <td>NaN</td>\n",
       "    </tr>\n",
       "  </tbody>\n",
       "</table>\n",
       "<p>5 rows × 44 columns</p>\n",
       "</div>"
      ],
      "text/plain": [
       "   DeviceId  DurationSeconds  StreetMarker  Area  StreetId  StreetName  \\\n",
       "0   18773.0            325.0           0.0   0.0     123.0         0.0   \n",
       "1   18773.0             60.0           0.0   0.0     123.0         0.0   \n",
       "2   18773.0          27000.0           0.0   0.0     123.0         0.0   \n",
       "3   18773.0            258.0           0.0   0.0     123.0         0.0   \n",
       "4   18773.0            702.0           0.0   0.0     123.0         0.0   \n",
       "\n",
       "   BetweenStreet1  BetweenStreet2  Side Of Street  In Violation  ...  \\\n",
       "0             0.0             0.0             4.0           0.0  ...   \n",
       "1             0.0             0.0             4.0           0.0  ...   \n",
       "2             0.0             0.0             4.0           0.0  ...   \n",
       "3             0.0             0.0             4.0           0.0  ...   \n",
       "4             0.0             0.0             4.0           0.0  ...   \n",
       "\n",
       "   FromDay3  FromDay4  FromDay5  FromDay6  ToDay1  ToDay2  ToDay3  ToDay4  \\\n",
       "0       NaN       NaN       NaN       NaN     NaN     NaN     NaN     NaN   \n",
       "1       NaN       NaN       NaN       NaN     NaN     NaN     NaN     NaN   \n",
       "2       NaN       NaN       NaN       NaN     NaN     NaN     NaN     NaN   \n",
       "3       NaN       NaN       NaN       NaN     NaN     NaN     NaN     NaN   \n",
       "4       NaN       NaN       NaN       NaN     NaN     NaN     NaN     NaN   \n",
       "\n",
       "   ToDay5  ToDay6  \n",
       "0     NaN     NaN  \n",
       "1     NaN     NaN  \n",
       "2     NaN     NaN  \n",
       "3     NaN     NaN  \n",
       "4     NaN     NaN  \n",
       "\n",
       "[5 rows x 44 columns]"
      ]
     },
     "execution_count": 701,
     "metadata": {},
     "output_type": "execute_result"
    }
   ],
   "source": [
    "Bay_data.head()"
   ]
  },
  {
   "cell_type": "code",
   "execution_count": 702,
   "id": "88958d60",
   "metadata": {},
   "outputs": [
    {
     "data": {
      "text/plain": [
       "(54116, 44)"
      ]
     },
     "execution_count": 702,
     "metadata": {},
     "output_type": "execute_result"
    }
   ],
   "source": [
    "Bay_data.shape"
   ]
  },
  {
   "cell_type": "code",
   "execution_count": 703,
   "id": "51f53254",
   "metadata": {},
   "outputs": [],
   "source": [
    "null_val=Bay_data.isnull().sum()\n",
    "toRemove =set()"
   ]
  },
  {
   "cell_type": "code",
   "execution_count": 704,
   "id": "de6e72b1",
   "metadata": {},
   "outputs": [
    {
     "data": {
      "text/plain": [
       "DeviceId            4116\n",
       "DurationSeconds     4116\n",
       "StreetMarker        4116\n",
       "Area                4116\n",
       "StreetId            4116\n",
       "StreetName          4116\n",
       "BetweenStreet1      4116\n",
       "BetweenStreet2      4116\n",
       "Side Of Street      4116\n",
       "In Violation        4116\n",
       "Vehicle Present     4116\n",
       "BayID              48993\n",
       "DeviceID           48993\n",
       "DisabilityExt1     48993\n",
       "DisabilityExt2     50969\n",
       "DisabilityExt3     53465\n",
       "DisabilityExt4     53835\n",
       "DisabilityExt5     54021\n",
       "DisabilityExt6     54076\n",
       "Duration1          48993\n",
       "Duration2          50969\n",
       "Duration3          53465\n",
       "Duration4          53835\n",
       "Duration5          54021\n",
       "Duration6          54076\n",
       "EffectiveOnPH1     48993\n",
       "EffectiveOnPH2     50969\n",
       "EffectiveOnPH3     53465\n",
       "EffectiveOnPH4     53835\n",
       "EffectiveOnPH5     54021\n",
       "EffectiveOnPH6     54076\n",
       "Exemption6         54116\n",
       "FromDay1           48993\n",
       "FromDay2           50969\n",
       "FromDay3           53465\n",
       "FromDay4           53835\n",
       "FromDay5           54021\n",
       "FromDay6           54076\n",
       "ToDay1             48993\n",
       "ToDay2             50969\n",
       "ToDay3             53465\n",
       "ToDay4             53835\n",
       "ToDay5             54021\n",
       "ToDay6             54076\n",
       "dtype: int64"
      ]
     },
     "execution_count": 704,
     "metadata": {},
     "output_type": "execute_result"
    }
   ],
   "source": [
    "null_val"
   ]
  },
  {
   "cell_type": "code",
   "execution_count": 705,
   "id": "bdca2806",
   "metadata": {},
   "outputs": [],
   "source": [
    "for i in null_val.index:\n",
    "    if(null_val[i]>500):\n",
    "        toRemove.add(i)\n",
    "for i in toRemove:\n",
    "    Bay_data.drop(i,axis=1,inplace=True)\n",
    "    "
   ]
  },
  {
   "cell_type": "code",
   "execution_count": 706,
   "id": "e5228565",
   "metadata": {},
   "outputs": [],
   "source": [
    "#separating dependant and independant features"
   ]
  },
  {
   "cell_type": "code",
   "execution_count": 707,
   "id": "c7ce4df6",
   "metadata": {},
   "outputs": [
    {
     "ename": "KeyError",
     "evalue": "\"['In Violation'] not found in axis\"",
     "output_type": "error",
     "traceback": [
      "\u001b[1;31m---------------------------------------------------------------------------\u001b[0m",
      "\u001b[1;31mKeyError\u001b[0m                                  Traceback (most recent call last)",
      "\u001b[1;32m~\\AppData\\Local\\Temp\\ipykernel_13088\\973555105.py\u001b[0m in \u001b[0;36m<module>\u001b[1;34m\u001b[0m\n\u001b[1;32m----> 1\u001b[1;33m \u001b[0mx\u001b[0m \u001b[1;33m=\u001b[0m \u001b[0mBay_data\u001b[0m\u001b[1;33m.\u001b[0m\u001b[0mdrop\u001b[0m\u001b[1;33m(\u001b[0m\u001b[1;33m[\u001b[0m\u001b[1;34m'In Violation'\u001b[0m\u001b[1;33m]\u001b[0m\u001b[1;33m,\u001b[0m \u001b[0maxis\u001b[0m\u001b[1;33m=\u001b[0m\u001b[1;36m1\u001b[0m\u001b[1;33m)\u001b[0m\u001b[1;33m\u001b[0m\u001b[1;33m\u001b[0m\u001b[0m\n\u001b[0m\u001b[0;32m      2\u001b[0m \u001b[0my\u001b[0m \u001b[1;33m=\u001b[0m \u001b[0mBay_data\u001b[0m\u001b[1;33m[\u001b[0m\u001b[1;34m'In Violation'\u001b[0m\u001b[1;33m]\u001b[0m\u001b[1;33m\u001b[0m\u001b[1;33m\u001b[0m\u001b[0m\n",
      "\u001b[1;32m~\\Anaconda3\\lib\\site-packages\\pandas\\util\\_decorators.py\u001b[0m in \u001b[0;36mwrapper\u001b[1;34m(*args, **kwargs)\u001b[0m\n\u001b[0;32m    309\u001b[0m                     \u001b[0mstacklevel\u001b[0m\u001b[1;33m=\u001b[0m\u001b[0mstacklevel\u001b[0m\u001b[1;33m,\u001b[0m\u001b[1;33m\u001b[0m\u001b[1;33m\u001b[0m\u001b[0m\n\u001b[0;32m    310\u001b[0m                 )\n\u001b[1;32m--> 311\u001b[1;33m             \u001b[1;32mreturn\u001b[0m \u001b[0mfunc\u001b[0m\u001b[1;33m(\u001b[0m\u001b[1;33m*\u001b[0m\u001b[0margs\u001b[0m\u001b[1;33m,\u001b[0m \u001b[1;33m**\u001b[0m\u001b[0mkwargs\u001b[0m\u001b[1;33m)\u001b[0m\u001b[1;33m\u001b[0m\u001b[1;33m\u001b[0m\u001b[0m\n\u001b[0m\u001b[0;32m    312\u001b[0m \u001b[1;33m\u001b[0m\u001b[0m\n\u001b[0;32m    313\u001b[0m         \u001b[1;32mreturn\u001b[0m \u001b[0mwrapper\u001b[0m\u001b[1;33m\u001b[0m\u001b[1;33m\u001b[0m\u001b[0m\n",
      "\u001b[1;32m~\\Anaconda3\\lib\\site-packages\\pandas\\core\\frame.py\u001b[0m in \u001b[0;36mdrop\u001b[1;34m(self, labels, axis, index, columns, level, inplace, errors)\u001b[0m\n\u001b[0;32m   4955\u001b[0m                 \u001b[0mweight\u001b[0m  \u001b[1;36m1.0\u001b[0m     \u001b[1;36m0.8\u001b[0m\u001b[1;33m\u001b[0m\u001b[1;33m\u001b[0m\u001b[0m\n\u001b[0;32m   4956\u001b[0m         \"\"\"\n\u001b[1;32m-> 4957\u001b[1;33m         return super().drop(\n\u001b[0m\u001b[0;32m   4958\u001b[0m             \u001b[0mlabels\u001b[0m\u001b[1;33m=\u001b[0m\u001b[0mlabels\u001b[0m\u001b[1;33m,\u001b[0m\u001b[1;33m\u001b[0m\u001b[1;33m\u001b[0m\u001b[0m\n\u001b[0;32m   4959\u001b[0m             \u001b[0maxis\u001b[0m\u001b[1;33m=\u001b[0m\u001b[0maxis\u001b[0m\u001b[1;33m,\u001b[0m\u001b[1;33m\u001b[0m\u001b[1;33m\u001b[0m\u001b[0m\n",
      "\u001b[1;32m~\\Anaconda3\\lib\\site-packages\\pandas\\core\\generic.py\u001b[0m in \u001b[0;36mdrop\u001b[1;34m(self, labels, axis, index, columns, level, inplace, errors)\u001b[0m\n\u001b[0;32m   4265\u001b[0m         \u001b[1;32mfor\u001b[0m \u001b[0maxis\u001b[0m\u001b[1;33m,\u001b[0m \u001b[0mlabels\u001b[0m \u001b[1;32min\u001b[0m \u001b[0maxes\u001b[0m\u001b[1;33m.\u001b[0m\u001b[0mitems\u001b[0m\u001b[1;33m(\u001b[0m\u001b[1;33m)\u001b[0m\u001b[1;33m:\u001b[0m\u001b[1;33m\u001b[0m\u001b[1;33m\u001b[0m\u001b[0m\n\u001b[0;32m   4266\u001b[0m             \u001b[1;32mif\u001b[0m \u001b[0mlabels\u001b[0m \u001b[1;32mis\u001b[0m \u001b[1;32mnot\u001b[0m \u001b[1;32mNone\u001b[0m\u001b[1;33m:\u001b[0m\u001b[1;33m\u001b[0m\u001b[1;33m\u001b[0m\u001b[0m\n\u001b[1;32m-> 4267\u001b[1;33m                 \u001b[0mobj\u001b[0m \u001b[1;33m=\u001b[0m \u001b[0mobj\u001b[0m\u001b[1;33m.\u001b[0m\u001b[0m_drop_axis\u001b[0m\u001b[1;33m(\u001b[0m\u001b[0mlabels\u001b[0m\u001b[1;33m,\u001b[0m \u001b[0maxis\u001b[0m\u001b[1;33m,\u001b[0m \u001b[0mlevel\u001b[0m\u001b[1;33m=\u001b[0m\u001b[0mlevel\u001b[0m\u001b[1;33m,\u001b[0m \u001b[0merrors\u001b[0m\u001b[1;33m=\u001b[0m\u001b[0merrors\u001b[0m\u001b[1;33m)\u001b[0m\u001b[1;33m\u001b[0m\u001b[1;33m\u001b[0m\u001b[0m\n\u001b[0m\u001b[0;32m   4268\u001b[0m \u001b[1;33m\u001b[0m\u001b[0m\n\u001b[0;32m   4269\u001b[0m         \u001b[1;32mif\u001b[0m \u001b[0minplace\u001b[0m\u001b[1;33m:\u001b[0m\u001b[1;33m\u001b[0m\u001b[1;33m\u001b[0m\u001b[0m\n",
      "\u001b[1;32m~\\Anaconda3\\lib\\site-packages\\pandas\\core\\generic.py\u001b[0m in \u001b[0;36m_drop_axis\u001b[1;34m(self, labels, axis, level, errors, consolidate, only_slice)\u001b[0m\n\u001b[0;32m   4309\u001b[0m                 \u001b[0mnew_axis\u001b[0m \u001b[1;33m=\u001b[0m \u001b[0maxis\u001b[0m\u001b[1;33m.\u001b[0m\u001b[0mdrop\u001b[0m\u001b[1;33m(\u001b[0m\u001b[0mlabels\u001b[0m\u001b[1;33m,\u001b[0m \u001b[0mlevel\u001b[0m\u001b[1;33m=\u001b[0m\u001b[0mlevel\u001b[0m\u001b[1;33m,\u001b[0m \u001b[0merrors\u001b[0m\u001b[1;33m=\u001b[0m\u001b[0merrors\u001b[0m\u001b[1;33m)\u001b[0m\u001b[1;33m\u001b[0m\u001b[1;33m\u001b[0m\u001b[0m\n\u001b[0;32m   4310\u001b[0m             \u001b[1;32melse\u001b[0m\u001b[1;33m:\u001b[0m\u001b[1;33m\u001b[0m\u001b[1;33m\u001b[0m\u001b[0m\n\u001b[1;32m-> 4311\u001b[1;33m                 \u001b[0mnew_axis\u001b[0m \u001b[1;33m=\u001b[0m \u001b[0maxis\u001b[0m\u001b[1;33m.\u001b[0m\u001b[0mdrop\u001b[0m\u001b[1;33m(\u001b[0m\u001b[0mlabels\u001b[0m\u001b[1;33m,\u001b[0m \u001b[0merrors\u001b[0m\u001b[1;33m=\u001b[0m\u001b[0merrors\u001b[0m\u001b[1;33m)\u001b[0m\u001b[1;33m\u001b[0m\u001b[1;33m\u001b[0m\u001b[0m\n\u001b[0m\u001b[0;32m   4312\u001b[0m             \u001b[0mindexer\u001b[0m \u001b[1;33m=\u001b[0m \u001b[0maxis\u001b[0m\u001b[1;33m.\u001b[0m\u001b[0mget_indexer\u001b[0m\u001b[1;33m(\u001b[0m\u001b[0mnew_axis\u001b[0m\u001b[1;33m)\u001b[0m\u001b[1;33m\u001b[0m\u001b[1;33m\u001b[0m\u001b[0m\n\u001b[0;32m   4313\u001b[0m \u001b[1;33m\u001b[0m\u001b[0m\n",
      "\u001b[1;32m~\\Anaconda3\\lib\\site-packages\\pandas\\core\\indexes\\base.py\u001b[0m in \u001b[0;36mdrop\u001b[1;34m(self, labels, errors)\u001b[0m\n\u001b[0;32m   6659\u001b[0m         \u001b[1;32mif\u001b[0m \u001b[0mmask\u001b[0m\u001b[1;33m.\u001b[0m\u001b[0many\u001b[0m\u001b[1;33m(\u001b[0m\u001b[1;33m)\u001b[0m\u001b[1;33m:\u001b[0m\u001b[1;33m\u001b[0m\u001b[1;33m\u001b[0m\u001b[0m\n\u001b[0;32m   6660\u001b[0m             \u001b[1;32mif\u001b[0m \u001b[0merrors\u001b[0m \u001b[1;33m!=\u001b[0m \u001b[1;34m\"ignore\"\u001b[0m\u001b[1;33m:\u001b[0m\u001b[1;33m\u001b[0m\u001b[1;33m\u001b[0m\u001b[0m\n\u001b[1;32m-> 6661\u001b[1;33m                 \u001b[1;32mraise\u001b[0m \u001b[0mKeyError\u001b[0m\u001b[1;33m(\u001b[0m\u001b[1;34mf\"{list(labels[mask])} not found in axis\"\u001b[0m\u001b[1;33m)\u001b[0m\u001b[1;33m\u001b[0m\u001b[1;33m\u001b[0m\u001b[0m\n\u001b[0m\u001b[0;32m   6662\u001b[0m             \u001b[0mindexer\u001b[0m \u001b[1;33m=\u001b[0m \u001b[0mindexer\u001b[0m\u001b[1;33m[\u001b[0m\u001b[1;33m~\u001b[0m\u001b[0mmask\u001b[0m\u001b[1;33m]\u001b[0m\u001b[1;33m\u001b[0m\u001b[1;33m\u001b[0m\u001b[0m\n\u001b[0;32m   6663\u001b[0m         \u001b[1;32mreturn\u001b[0m \u001b[0mself\u001b[0m\u001b[1;33m.\u001b[0m\u001b[0mdelete\u001b[0m\u001b[1;33m(\u001b[0m\u001b[0mindexer\u001b[0m\u001b[1;33m)\u001b[0m\u001b[1;33m\u001b[0m\u001b[1;33m\u001b[0m\u001b[0m\n",
      "\u001b[1;31mKeyError\u001b[0m: \"['In Violation'] not found in axis\""
     ]
    }
   ],
   "source": [
    "x = Bay_data.drop(['In Violation'], axis=1)\n",
    "y = Bay_data['In Violation']"
   ]
  },
  {
   "cell_type": "code",
   "execution_count": null,
   "id": "3ef834c4",
   "metadata": {},
   "outputs": [],
   "source": [
    "x.shape"
   ]
  },
  {
   "cell_type": "code",
   "execution_count": null,
   "id": "cb0cfd42",
   "metadata": {},
   "outputs": [],
   "source": [
    "y.shape"
   ]
  },
  {
   "cell_type": "code",
   "execution_count": null,
   "id": "fc540a59",
   "metadata": {},
   "outputs": [],
   "source": [
    "y.value_counts()"
   ]
  },
  {
   "cell_type": "code",
   "execution_count": null,
   "id": "d0126502",
   "metadata": {},
   "outputs": [],
   "source": [
    "## Visualising features"
   ]
  },
  {
   "cell_type": "code",
   "execution_count": null,
   "id": "10da3163",
   "metadata": {},
   "outputs": [],
   "source": [
    "y.value_counts().plot.pie(autopct='%.2f')"
   ]
  },
  {
   "cell_type": "code",
   "execution_count": null,
   "id": "45492e73",
   "metadata": {},
   "outputs": [],
   "source": [
    "#Loading library for splitting the data\n",
    "from sklearn.model_selection import train_test_split"
   ]
  },
  {
   "cell_type": "code",
   "execution_count": null,
   "id": "09211331",
   "metadata": {},
   "outputs": [],
   "source": [
    "x_train,x_test,y_train,y_test=train_test_split(x,y, test_size=0.30,shuffle=True, random_state=101)"
   ]
  },
  {
   "cell_type": "code",
   "execution_count": null,
   "id": "3fe15201",
   "metadata": {},
   "outputs": [],
   "source": [
    "print(\"x-train - \",x_train.shape)\n",
    "print(\"y-train - \",y_train.shape)\n",
    "print(\"x-test - \",x_test.shape)\n",
    "print(\"y-test - \",y_test.shape)"
   ]
  },
  {
   "cell_type": "code",
   "execution_count": null,
   "id": "bd3ce8b5",
   "metadata": {},
   "outputs": [],
   "source": [
    "# This shows that the dataset is significantly imbalanced"
   ]
  },
  {
   "cell_type": "code",
   "execution_count": null,
   "id": "ba60962d",
   "metadata": {},
   "outputs": [],
   "source": [
    "#Logistic Regression with imbalanced data"
   ]
  },
  {
   "cell_type": "code",
   "execution_count": null,
   "id": "3596c962",
   "metadata": {},
   "outputs": [],
   "source": [
    "from sklearn.linear_model import LogisticRegression"
   ]
  },
  {
   "cell_type": "code",
   "execution_count": null,
   "id": "79c47fd5",
   "metadata": {},
   "outputs": [],
   "source": [
    "logreg=LogisticRegression()\n",
    "logreg.fit(x_train,y_train)"
   ]
  },
  {
   "cell_type": "code",
   "execution_count": null,
   "id": "921f0995",
   "metadata": {},
   "outputs": [],
   "source": [
    "y_pred=logreg.predict(x_test)"
   ]
  },
  {
   "cell_type": "code",
   "execution_count": null,
   "id": "1ab6ffd0",
   "metadata": {},
   "outputs": [],
   "source": [
    "#Model Evaluation"
   ]
  },
  {
   "cell_type": "code",
   "execution_count": null,
   "id": "e4b30976",
   "metadata": {},
   "outputs": [],
   "source": [
    "from sklearn.metrics import precision_score,recall_score,f1_score,accuracy_score,classification_report\n"
   ]
  },
  {
   "cell_type": "code",
   "execution_count": null,
   "id": "ea9b28ec",
   "metadata": {},
   "outputs": [],
   "source": [
    "print(metrics.classification_report(y_test,y_pred))"
   ]
  },
  {
   "cell_type": "code",
   "execution_count": null,
   "id": "276ef98b",
   "metadata": {},
   "outputs": [],
   "source": []
  }
 ],
 "metadata": {
  "kernelspec": {
   "display_name": "Python 3 (ipykernel)",
   "language": "python",
   "name": "python3"
  },
  "language_info": {
   "codemirror_mode": {
    "name": "ipython",
    "version": 3
   },
   "file_extension": ".py",
   "mimetype": "text/x-python",
   "name": "python",
   "nbconvert_exporter": "python",
   "pygments_lexer": "ipython3",
   "version": "3.9.13"
  }
 },
 "nbformat": 4,
 "nbformat_minor": 5
}
