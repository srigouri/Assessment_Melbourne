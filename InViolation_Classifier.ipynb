{
 "cells": [
  {
   "cell_type": "code",
   "execution_count": 1,
   "id": "9cb01e4b",
   "metadata": {},
   "outputs": [],
   "source": [
    "## Importing libraries"
   ]
  },
  {
   "cell_type": "code",
   "execution_count": 2,
   "id": "8cbe9020",
   "metadata": {},
   "outputs": [
    {
     "name": "stdout",
     "output_type": "stream",
     "text": [
      "Requirement already satisfied: imbalanced-learn in c:\\users\\spatnam\\anaconda3\\lib\\site-packages (0.9.1)\n",
      "Requirement already satisfied: joblib>=1.0.0 in c:\\users\\spatnam\\anaconda3\\lib\\site-packages (from imbalanced-learn) (1.1.0)\n",
      "Requirement already satisfied: numpy>=1.17.3 in c:\\users\\spatnam\\anaconda3\\lib\\site-packages (from imbalanced-learn) (1.21.5)\n",
      "Requirement already satisfied: scipy>=1.3.2 in c:\\users\\spatnam\\anaconda3\\lib\\site-packages (from imbalanced-learn) (1.9.1)\n",
      "Requirement already satisfied: scikit-learn>=1.1.0 in c:\\users\\spatnam\\anaconda3\\lib\\site-packages (from imbalanced-learn) (1.1.3)\n",
      "Requirement already satisfied: threadpoolctl>=2.0.0 in c:\\users\\spatnam\\anaconda3\\lib\\site-packages (from imbalanced-learn) (2.2.0)\n"
     ]
    }
   ],
   "source": [
    "! pip install -U imbalanced-learn"
   ]
  },
  {
   "cell_type": "code",
   "execution_count": 3,
   "id": "f3256eb4",
   "metadata": {},
   "outputs": [],
   "source": [
    "import sklearn.utils._cython_blas\n"
   ]
  },
  {
   "cell_type": "code",
   "execution_count": 4,
   "id": "9d518e11",
   "metadata": {},
   "outputs": [],
   "source": [
    "import pandas as pd\n",
    "import numpy as np\n",
    "import sklearn\n",
    "from sklearn import preprocessing\n",
    "import seaborn as sns\n",
    "%matplotlib inline\n",
    "import matplotlib.pyplot as plt\n",
    "from sklearn.svm import LinearSVC\n",
    "from collections import Counter\n",
    "from sklearn.datasets import make_classification"
   ]
  },
  {
   "cell_type": "code",
   "execution_count": 5,
   "id": "f07fa130",
   "metadata": {},
   "outputs": [],
   "source": [
    "## Loading csv file containing historical sensor data into sensor_data dataframe"
   ]
  },
  {
   "cell_type": "code",
   "execution_count": null,
   "id": "bee06d9d",
   "metadata": {},
   "outputs": [],
   "source": [
    "sensor_data=pd.read_csv('C:/Users/spatnam/Downloads/On-street_Car_Parking_Sensor_Data_-_2017.csv')"
   ]
  },
  {
   "cell_type": "code",
   "execution_count": null,
   "id": "e95a6c5c",
   "metadata": {},
   "outputs": [],
   "source": [
    "# Using shape function to know the shape of the dataset "
   ]
  },
  {
   "cell_type": "code",
   "execution_count": null,
   "id": "0603559c",
   "metadata": {},
   "outputs": [],
   "source": [
    "sensor_data.shape"
   ]
  },
  {
   "cell_type": "code",
   "execution_count": null,
   "id": "0674d418",
   "metadata": {},
   "outputs": [],
   "source": [
    "sensor_data.head()"
   ]
  },
  {
   "cell_type": "code",
   "execution_count": null,
   "id": "29743df6",
   "metadata": {},
   "outputs": [],
   "source": [
    "# Using info function to see the datatypes and number of instances in the dataset"
   ]
  },
  {
   "cell_type": "code",
   "execution_count": null,
   "id": "48e9d1db",
   "metadata": {},
   "outputs": [],
   "source": [
    "sensor_data.info()"
   ]
  },
  {
   "cell_type": "raw",
   "id": "ebebd082",
   "metadata": {},
   "source": [
    "## Insights\n",
    "-The dataset consist of 14 columns.\n",
    "-\n"
   ]
  },
  {
   "cell_type": "code",
   "execution_count": null,
   "id": "1f43a07f",
   "metadata": {},
   "outputs": [],
   "source": [
    "## Data Cleaning"
   ]
  },
  {
   "cell_type": "code",
   "execution_count": null,
   "id": "c10a44d5",
   "metadata": {},
   "outputs": [],
   "source": [
    "sensor_data.isna().sum()"
   ]
  },
  {
   "cell_type": "code",
   "execution_count": null,
   "id": "71e44e10",
   "metadata": {},
   "outputs": [],
   "source": [
    "sensor_data['Vehicle Present'] = sensor_data['Vehicle Present'].map({False:0,True:1})\n",
    "sensor_data['In Violation'] = sensor_data['In Violation'].map({False:0,True:1})"
   ]
  },
  {
   "cell_type": "code",
   "execution_count": null,
   "id": "e5228565",
   "metadata": {},
   "outputs": [],
   "source": [
    "#separating dependant and independant features"
   ]
  },
  {
   "cell_type": "code",
   "execution_count": null,
   "id": "c7ce4df6",
   "metadata": {},
   "outputs": [],
   "source": [
    "x = sensor_data.drop(['In Violation'],axis=1)\n",
    "y = sensor_data['In Violation']"
   ]
  },
  {
   "cell_type": "code",
   "execution_count": null,
   "id": "fc540a59",
   "metadata": {},
   "outputs": [],
   "source": [
    "y.value_counts()"
   ]
  },
  {
   "cell_type": "code",
   "execution_count": null,
   "id": "f9344553",
   "metadata": {},
   "outputs": [],
   "source": [
    "print('Number of duplicate rows :', sensor_data.duplicated().sum())"
   ]
  },
  {
   "cell_type": "code",
   "execution_count": null,
   "id": "d0126502",
   "metadata": {},
   "outputs": [],
   "source": [
    "## Visualising features"
   ]
  },
  {
   "cell_type": "code",
   "execution_count": null,
   "id": "10da3163",
   "metadata": {},
   "outputs": [],
   "source": [
    "y.value_counts().plot.pie(autopct='%.2f')"
   ]
  },
  {
   "cell_type": "code",
   "execution_count": null,
   "id": "45492e73",
   "metadata": {},
   "outputs": [],
   "source": [
    "#Loading library for splitting the data\n",
    "from sklearn.model_selection import train_test_split"
   ]
  },
  {
   "cell_type": "code",
   "execution_count": null,
   "id": "bd3ce8b5",
   "metadata": {},
   "outputs": [],
   "source": [
    "# This shows that the dataset is significantly imbalanced"
   ]
  },
  {
   "cell_type": "code",
   "execution_count": null,
   "id": "3596c962",
   "metadata": {},
   "outputs": [],
   "source": [
    "from sklearn.linear_model import LogisticRegression"
   ]
  },
  {
   "cell_type": "code",
   "execution_count": null,
   "id": "79c47fd5",
   "metadata": {},
   "outputs": [],
   "source": []
  }
 ],
 "metadata": {
  "kernelspec": {
   "display_name": "Python 3 (ipykernel)",
   "language": "python",
   "name": "python3"
  },
  "language_info": {
   "codemirror_mode": {
    "name": "ipython",
    "version": 3
   },
   "file_extension": ".py",
   "mimetype": "text/x-python",
   "name": "python",
   "nbconvert_exporter": "python",
   "pygments_lexer": "ipython3",
   "version": "3.9.13"
  }
 },
 "nbformat": 4,
 "nbformat_minor": 5
}
